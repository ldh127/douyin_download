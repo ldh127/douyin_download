{
 "cells": [
  {
   "cell_type": "markdown",
   "id": "aacac469",
   "metadata": {},
   "source": [
    "# 爬取抖音视频流程"
   ]
  },
  {
   "cell_type": "code",
   "execution_count": 1,
   "id": "e25a9961",
   "metadata": {},
   "outputs": [],
   "source": [
    "import requests\n",
    "import re\n",
    "import json\n",
    "from pprint import pprint\n",
    "from selenium import webdriver\n",
    "import time"
   ]
  },
  {
   "cell_type": "code",
   "execution_count": 13,
   "id": "92b9de86",
   "metadata": {},
   "outputs": [
    {
     "name": "stdout",
     "output_type": "stream",
     "text": [
      "正克隆到 'TikTokDownload'...\n",
      "remote: Enumerating objects: 1332, done.\u001b[K\n",
      "remote: Counting objects: 100% (284/284), done.\u001b[K\n",
      "remote: Compressing objects: 100% (113/113), done.\u001b[K\n",
      "remote: Total 1332 (delta 177), reused 264 (delta 162), pack-reused 1048\u001b[K\n",
      "接收对象中: 100% (1332/1332), 623.16 KiB | 751.00 KiB/s, 完成.\n",
      "处理 delta 中: 100% (807/807), 完成.\n"
     ]
    }
   ],
   "source": [
    "!git clone https://github.com/Johnserf-Seed/TikTokDownload.git"
   ]
  },
  {
   "cell_type": "code",
   "execution_count": 14,
   "id": "d106f164",
   "metadata": {},
   "outputs": [
    {
     "name": "stdout",
     "output_type": "stream",
     "text": [
      "nohup.out  \u001b[0m\u001b[01;34mTikTokDownload\u001b[0m/  Untitled.ipynb\r\n"
     ]
    }
   ],
   "source": [
    "ls\n"
   ]
  },
  {
   "cell_type": "code",
   "execution_count": 15,
   "id": "2323be07",
   "metadata": {},
   "outputs": [
    {
     "name": "stdout",
     "output_type": "stream",
     "text": [
      "/home/ubuntu/all_root/workspace_root/jupyter_workspace\r\n"
     ]
    }
   ],
   "source": [
    "!pwd\n"
   ]
  },
  {
   "cell_type": "code",
   "execution_count": null,
   "id": "ea5f626c",
   "metadata": {},
   "outputs": [],
   "source": []
  }
 ],
 "metadata": {
  "kernelspec": {
   "display_name": "Python 3 (ipykernel)",
   "language": "python",
   "name": "python3"
  },
  "language_info": {
   "codemirror_mode": {
    "name": "ipython",
    "version": 3
   },
   "file_extension": ".py",
   "mimetype": "text/x-python",
   "name": "python",
   "nbconvert_exporter": "python",
   "pygments_lexer": "ipython3",
   "version": "3.7.16"
  }
 },
 "nbformat": 4,
 "nbformat_minor": 5
}
